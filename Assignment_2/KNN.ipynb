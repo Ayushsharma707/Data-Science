{
 "cells": [
  {
   "cell_type": "code",
   "execution_count": 2,
   "id": "5d47121a-eab6-43eb-b6f1-86897d32db63",
   "metadata": {},
   "outputs": [],
   "source": [
    "import pandas as pd\n",
    "import numpy as np\n",
    "from sklearn.model_selection import train_test_split\n",
    "from sklearn.neighbors import KNeighborsClassifier\n",
    "from sklearn import metrics\n",
    "import matplotlib.pyplot as plt"
   ]
  },
  {
   "cell_type": "code",
   "execution_count": 18,
   "id": "3447c2dd-85a3-42f1-bfd4-c0575a4f0769",
   "metadata": {},
   "outputs": [],
   "source": [
    "df = pd.read_csv('titanic.csv')"
   ]
  },
  {
   "cell_type": "code",
   "execution_count": 4,
   "id": "6541b720-c062-4aaa-8049-1819dc16e2d4",
   "metadata": {},
   "outputs": [
    {
     "name": "stdout",
     "output_type": "stream",
     "text": [
      "                                       char     charname  \\\n",
      "0  http://www.wikidata.org/entity/Q18754954         Silk   \n",
      "1   http://www.wikidata.org/entity/Q3127430     Snowbird   \n",
      "2    http://www.wikidata.org/entity/Q546340  Thunderbird   \n",
      "3   http://www.wikidata.org/entity/Q1194236   Cannonball   \n",
      "4   http://www.wikidata.org/entity/Q2087326       Shriek   \n",
      "\n",
      "                 birthname                                              types  \\\n",
      "0               Cindy Moon                           mutate, comics character   \n",
      "1                    Narya  demigod or quasi-deity in a work of fiction, c...   \n",
      "2           John Proudstar   television character, animated character, mutant   \n",
      "3   Samuel Zachery Guthrie  superhero film character, animated character, ...   \n",
      "4  Frances Louise Barrison                   film character, comics character   \n",
      "\n",
      "                    universes birthplace  \\\n",
      "0  Earth-616, Marvel Universe        NaN   \n",
      "1             Marvel Universe        NaN   \n",
      "2             Marvel Universe        NaN   \n",
      "3  Earth-616, Marvel Universe        NaN   \n",
      "4             Marvel Universe        NaN   \n",
      "\n",
      "                                         superpowers religions gender  \\\n",
      "0  superhuman agility / reflexes, superhuman dura...       NaN    NaN   \n",
      "1  flight, shapeshifting, superhuman strength, re...       NaN    NaN   \n",
      "2  superhuman durability, superhuman speed, super...       NaN    NaN   \n",
      "3                             thermo-chemical energy       NaN    NaN   \n",
      "4                                       sonic scream       NaN    NaN   \n",
      "\n",
      "  occupation memberof  \n",
      "0        NaN      NaN  \n",
      "1        NaN      NaN  \n",
      "2        NaN      NaN  \n",
      "3        NaN      NaN  \n",
      "4        NaN      NaN  \n"
     ]
    }
   ],
   "source": [
    "print(df.head())"
   ]
  },
  {
   "cell_type": "code",
   "execution_count": 5,
   "id": "42418bc8-eb6a-4956-b9c3-98510907c9c1",
   "metadata": {},
   "outputs": [],
   "source": [
    "X = df[['types', 'universes', 'superpowers', 'religions', 'gender', 'occupation', 'memberof']]\n",
    "y = df['charname']  # Assuming 'charname' is your target variable, change it to 'HeroOrVillain' if necessary"
   ]
  },
  {
   "cell_type": "code",
   "execution_count": 6,
   "id": "051dc8eb-bd8e-4924-8bea-5c20b1ad6cdb",
   "metadata": {},
   "outputs": [],
   "source": [
    "# Perform one-hot encoding for categorical features\n",
    "X = pd.get_dummies(X, columns=['types', 'universes', 'superpowers', 'religions', 'gender', 'occupation', 'memberof'], drop_first=True)\n"
   ]
  },
  {
   "cell_type": "code",
   "execution_count": 8,
   "id": "6867b0a6-c6e7-42ae-8622-1b143cb58a49",
   "metadata": {},
   "outputs": [],
   "source": [
    "# Splitting the dataset into training and testing sets\n",
    "X_train, X_test, y_train, y_test = train_test_split(X, y, test_size=0.3, random_state=0)"
   ]
  },
  {
   "cell_type": "code",
   "execution_count": 10,
   "id": "d6bccf8a-d49f-44a8-ba41-2cb5778d991e",
   "metadata": {},
   "outputs": [],
   "source": [
    "# Defining the value of k\n",
    "k = 5"
   ]
  },
  {
   "cell_type": "code",
   "execution_count": 11,
   "id": "ce48f208-ec87-49df-bf63-16874f66b9e9",
   "metadata": {},
   "outputs": [],
   "source": [
    "clf = KNeighborsClassifier(n_neighbors=k)\n",
    "clf.fit(X_train, y_train)\n",
    "y_pred = clf.predict(X_test)"
   ]
  },
  {
   "cell_type": "code",
   "execution_count": 12,
   "id": "1b9c07db-cb58-4523-8fb2-e8503febe91a",
   "metadata": {},
   "outputs": [
    {
     "name": "stdout",
     "output_type": "stream",
     "text": [
      "Accuracy: 0.0\n"
     ]
    }
   ],
   "source": [
    "# Printing the accuracy\n",
    "print('Accuracy:', metrics.accuracy_score(y_test, y_pred))"
   ]
  },
  {
   "cell_type": "code",
   "execution_count": 13,
   "id": "1a19acd9-e1e6-4c20-8814-2646e6227a68",
   "metadata": {},
   "outputs": [],
   "source": [
    "# Let's try different values of k and check their accuracies\n",
    "k_values = [3, 9]"
   ]
  },
  {
   "cell_type": "code",
   "execution_count": 14,
   "id": "108c877c-1f11-4604-b506-d070b70abdca",
   "metadata": {},
   "outputs": [
    {
     "name": "stdout",
     "output_type": "stream",
     "text": [
      "Accuracy for k = 3 : 0.0\n",
      "Accuracy for k = 9 : 0.0\n"
     ]
    }
   ],
   "source": [
    "for k in k_values:\n",
    "    clf = KNeighborsClassifier(n_neighbors=k)\n",
    "    clf.fit(X_train, y_train)\n",
    "    y_pred = clf.predict(X_test)\n",
    "    print('Accuracy for k =', k, ':', metrics.accuracy_score(y_test, y_pred))"
   ]
  },
  {
   "cell_type": "code",
   "execution_count": 15,
   "id": "3b5b09b9-efa6-4ca6-ad31-e8d8d01ce14e",
   "metadata": {},
   "outputs": [],
   "source": [
    "# Now, let's visualize the effect of different values of k on the accuracy\n",
    "training_acc = []\n",
    "test_acc = []\n",
    "neighbors_setting = range(1, 20)"
   ]
  },
  {
   "cell_type": "code",
   "execution_count": 16,
   "id": "d0bb2a5a-404c-418b-9775-c3081411e098",
   "metadata": {},
   "outputs": [],
   "source": [
    "for n_neighbors in neighbors_setting:\n",
    "    knn = KNeighborsClassifier(n_neighbors=n_neighbors)\n",
    "    knn.fit(X_train, y_train)\n",
    "    training_acc.append(knn.score(X_train, y_train))\n",
    "    test_acc.append(knn.score(X_test, y_test))"
   ]
  },
  {
   "cell_type": "code",
   "execution_count": 17,
   "id": "c6768473-f6d8-40f6-bb9d-d1c4be0ea12a",
   "metadata": {},
   "outputs": [
    {
     "data": {
      "image/png": "[encoded data removed]",
      "text/plain": [
       "<Figure size 640x480 with 1 Axes>"
      ]
     },
     "metadata": {},
     "output_type": "display_data"
    }
   ],
   "source": [
    "plt.figure(figsize=(8, 6), dpi=80)\n",
    "plt.plot(neighbors_setting, training_acc, label='Accuracy of the training set', color='cornflowerblue')\n",
    "plt.plot(neighbors_setting, test_acc, label='Accuracy of the test set', color='orange')\n",
    "plt.xlabel('Number of Neighbors')\n",
    "plt.ylabel('Accuracy')\n",
    "plt.legend()\n",
    "plt.grid()\n",
    "plt.show()"
   ]
  },
  {
   "cell_type": "code",
   "execution_count": null,
   "id": "9a00b53b-6777-4b60-ad6e-a36b26f86de0",
   "metadata": {},
   "outputs": [],
   "source": []
  }
 ],
 "metadata": {
  "kernelspec": {
   "display_name": "Python 3 (ipykernel)",
   "language": "python",
   "name": "python3"
  },
  "language_info": {
   "codemirror_mode": {
    "name": "ipython",
    "version": 3
   },
   "file_extension": ".py",
   "mimetype": "text/x-python",
   "name": "python",
   "nbconvert_exporter": "python",
   "pygments_lexer": "ipython3",
   "version": "3.11.7"
  }
 },
 "nbformat": 4,
 "nbformat_minor": 5
}
